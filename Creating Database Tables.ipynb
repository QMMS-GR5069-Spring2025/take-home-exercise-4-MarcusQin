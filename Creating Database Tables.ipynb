{
 "cells": [
  {
   "cell_type": "code",
   "execution_count": 0,
   "metadata": {
    "application/vnd.databricks.v1+cell": {
     "cellMetadata": {
      "byteLimit": 2048000,
      "rowLimit": 10000
     },
     "inputWidgets": {},
     "nuid": "ab57e903-af6d-41d0-ac18-213e73ec2d95",
     "showTitle": false,
     "tableResultSettingsMap": {},
     "title": ""
    }
   },
   "outputs": [
    {
     "output_type": "stream",
     "name": "stdout",
     "output_type": "stream",
     "text": [
      "Requirement already satisfied: pymysql in /local_disk0/.ephemeral_nfs/envs/pythonEnv-46969d95-7e08-44fc-885b-5212c893692e/lib/python3.11/site-packages (1.1.1)\n\u001B[43mNote: you may need to restart the kernel using %restart_python or dbutils.library.restartPython() to use updated packages.\u001B[0m\nRequirement already satisfied: sqlalchemy in /local_disk0/.ephemeral_nfs/envs/pythonEnv-46969d95-7e08-44fc-885b-5212c893692e/lib/python3.11/site-packages (2.0.40)\nRequirement already satisfied: greenlet>=1 in /local_disk0/.ephemeral_nfs/envs/pythonEnv-46969d95-7e08-44fc-885b-5212c893692e/lib/python3.11/site-packages (from sqlalchemy) (3.2.1)\nRequirement already satisfied: typing-extensions>=4.6.0 in /databricks/python3/lib/python3.11/site-packages (from sqlalchemy) (4.10.0)\n\u001B[43mNote: you may need to restart the kernel using %restart_python or dbutils.library.restartPython() to use updated packages.\u001B[0m\n"
     ]
    },
    {
     "output_type": "stream",
     "name": "stderr",
     "output_type": "stream",
     "text": [
      "/root/.ipykernel/1331/command-8484431490265577-263693516:38: MovedIn20Warning: The ``declarative_base()`` function is now available as sqlalchemy.orm.declarative_base(). (deprecated since: 2.0) (Background on SQLAlchemy 2.0 at: https://sqlalche.me/e/b8d9)\n  Base = declarative_base()\n"
     ]
    },
    {
     "output_type": "stream",
     "name": "stdout",
     "output_type": "stream",
     "text": [
      "Tables created successfully!\n"
     ]
    }
   ],
   "source": [
    "!pip install pymysql\n",
    "!pip install sqlalchemy\n",
    "import pymysql\n",
    "import pandas as pd\n",
    "from sqlalchemy import create_engine, Column, Integer, Float, String, DateTime\n",
    "from sqlalchemy.ext.declarative import declarative_base\n",
    "from sqlalchemy.orm import sessionmaker\n",
    "import datetime\n",
    "\n",
    "# Your RDS connection information\n",
    "database_username = 'admin'  # default admin username for RDS\n",
    "database_password = 'Qlj124213226'  # your password\n",
    "database_host = 'lq2242-gr5069.ccqalx6jsr2n.us-east-1.rds.amazonaws.com'  # your endpoint\n",
    "database_port = 3306  # MySQL default port\n",
    "database_name = 'f1_predictions'  # we'll create this database if it doesn't exist\n",
    "\n",
    "# First connect without specifying a database to create it if needed\n",
    "connection = pymysql.connect(\n",
    "    host=database_host,\n",
    "    user=database_username,\n",
    "    password=database_password,\n",
    "    port=database_port\n",
    ")\n",
    "\n",
    "try:\n",
    "    with connection.cursor() as cursor:\n",
    "        # Create database if it doesn't exist\n",
    "        cursor.execute(f\"CREATE DATABASE IF NOT EXISTS {database_name}\")\n",
    "    connection.commit()\n",
    "finally:\n",
    "    connection.close()\n",
    "\n",
    "# Create connection URL for SQLAlchemy\n",
    "connection_url = f'mysql+pymysql://{database_username}:{database_password}@{database_host}:{database_port}/{database_name}'\n",
    "engine = create_engine(connection_url)\n",
    "\n",
    "# Create a base class for declarative class definitions\n",
    "Base = declarative_base()\n",
    "\n",
    "# Define the first model predictions table\n",
    "class Model1Predictions(Base):\n",
    "    __tablename__ = 'model1_predictions'\n",
    "    \n",
    "    id = Column(Integer, primary_key=True, autoincrement=True)\n",
    "    race_id = Column(Integer)\n",
    "    driver_id = Column(Integer)\n",
    "    predicted_time = Column(Float)\n",
    "    actual_time = Column(Float)\n",
    "    prediction_timestamp = Column(DateTime, default=datetime.datetime.utcnow)\n",
    "    \n",
    "# Define the second model predictions table\n",
    "class Model2Predictions(Base):\n",
    "    __tablename__ = 'model2_predictions'\n",
    "    \n",
    "    id = Column(Integer, primary_key=True, autoincrement=True)\n",
    "    race_id = Column(Integer)\n",
    "    driver_id = Column(Integer)\n",
    "    predicted_time = Column(Float)\n",
    "    actual_time = Column(Float)\n",
    "    prediction_timestamp = Column(DateTime, default=datetime.datetime.utcnow)\n",
    "\n",
    "# Create the tables in the database\n",
    "Base.metadata.create_all(engine)\n",
    "\n",
    "print(\"Tables created successfully!\")"
   ]
  }
 ],
 "metadata": {
  "application/vnd.databricks.v1+notebook": {
   "computePreferences": null,
   "dashboards": [],
   "environmentMetadata": {
    "base_environment": "",
    "environment_version": "2"
   },
   "inputWidgetPreferences": null,
   "language": "python",
   "notebookMetadata": {
    "pythonIndentUnit": 4
   },
   "notebookName": "Creating Database Tables",
   "widgets": {}
  },
  "language_info": {
   "name": "python"
  }
 },
 "nbformat": 4,
 "nbformat_minor": 0
}